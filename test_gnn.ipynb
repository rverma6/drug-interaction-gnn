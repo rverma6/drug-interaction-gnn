{
 "cells": [
  {
   "cell_type": "code",
   "execution_count": 2,
   "metadata": {},
   "outputs": [],
   "source": [
    "import pandas as pd"
   ]
  },
  {
   "cell_type": "code",
   "execution_count": 4,
   "metadata": {},
   "outputs": [
    {
     "name": "stdout",
     "output_type": "stream",
     "text": [
      "   DB00862  DB00966\n",
      "0  DB00575  DB00806\n",
      "1  DB01242  DB08893\n",
      "2  DB01151  DB08883\n",
      "3  DB01235  DB01275\n",
      "4  DB00018  DB00333\n"
     ]
    }
   ],
   "source": [
    "dataset_df = pd.read_csv('ChCh-Miner_durgbank-chem.tsv', sep='\\t')\n",
    "print(dataset_df.head())"
   ]
  }
 ],
 "metadata": {
  "kernelspec": {
   "display_name": "gnn_molecule_env",
   "language": "python",
   "name": "python3"
  },
  "language_info": {
   "codemirror_mode": {
    "name": "ipython",
    "version": 3
   },
   "file_extension": ".py",
   "mimetype": "text/x-python",
   "name": "python",
   "nbconvert_exporter": "python",
   "pygments_lexer": "ipython3",
   "version": "3.8.19"
  }
 },
 "nbformat": 4,
 "nbformat_minor": 2
}
